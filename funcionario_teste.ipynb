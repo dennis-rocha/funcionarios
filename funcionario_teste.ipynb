{
 "cells": [
  {
   "cell_type": "code",
   "execution_count": 1,
   "id": "bae009cf",
   "metadata": {},
   "outputs": [],
   "source": [
    "import pandas as pd\n",
    "import json"
   ]
  },
  {
   "cell_type": "code",
   "execution_count": 2,
   "id": "984d5df7",
   "metadata": {},
   "outputs": [],
   "source": [
    "def show_data(new_df , name='global_name', columns=['salario','nome'], print_int=False):\n",
    "    for row in range(0,len(new_df)):\n",
    "        print(name,end=\" | \")\n",
    "        for column in columns:\n",
    "            if column == columns[-1]:\n",
    "                print(f\"{new_df[column].iloc[row]:.2f}\" if not print_int else f\"{new_df[column].iloc[row]}\")\n",
    "            else:\n",
    "                print(new_df[column].iloc[row], end=\" | \")"
   ]
  },
  {
   "cell_type": "code",
   "execution_count": 3,
   "id": "5a18cbdd",
   "metadata": {},
   "outputs": [],
   "source": [
    "#1 - LENDO O ARQUIVO JSON\n",
    "with open('funcionario.json', 'r') as json_file:\n",
    "    dados = json.loads(json_file.read())\n",
    "\n",
    "#2 - LENDO EM DOIS DATAFRAME O ARQUIVO JSON\n",
    "df_full=pd.DataFrame.from_dict(dados['funcionarios'], orient='columns')\n",
    "df_areas=pd.DataFrame.from_dict(dados['areas'], orient='columns')\n",
    "\n",
    "#3 - CRIANDO UMA COLUNA COM NOME + SOBRENOME\n",
    "df_full[\"nome_completo\"] = df_full.nome + \" \" + df_full.sobrenome\n",
    "\n",
    "#4 - CRIANDO UMA COLUNA COM A AREA COMPLETA\n",
    "for i in df_full[\"area\"]:\n",
    "    df_full.loc[df_full.area == i,\"area_completa\"] = list(df_areas.loc[df_areas.codigo == i,\"nome\"])[0]\n",
    "    \n",
    "#5 - CRIANDO UMA COLUNA COM TOTAL DE FUNCIONARIO EM CADA AREA\n",
    "df_areas[\"qtd_funcionario\"] = int\n",
    "for i in df_areas[\"codigo\"]:\n",
    "    df_areas.loc[df_areas.codigo == i, \"qtd_funcionario\"] = len(df_full.loc[df_full.area == i])\n",
    "    "
   ]
  },
  {
   "cell_type": "markdown",
   "id": "ba3624b6",
   "metadata": {},
   "source": [
    "<h3>Vendo o DataFrame para seguir com a atividade</h3>"
   ]
  },
  {
   "cell_type": "code",
   "execution_count": 4,
   "id": "82dfcb26",
   "metadata": {
    "scrolled": true
   },
   "outputs": [
    {
     "data": {
      "text/html": [
       "<div>\n",
       "<style scoped>\n",
       "    .dataframe tbody tr th:only-of-type {\n",
       "        vertical-align: middle;\n",
       "    }\n",
       "\n",
       "    .dataframe tbody tr th {\n",
       "        vertical-align: top;\n",
       "    }\n",
       "\n",
       "    .dataframe thead th {\n",
       "        text-align: right;\n",
       "    }\n",
       "</style>\n",
       "<table border=\"1\" class=\"dataframe\">\n",
       "  <thead>\n",
       "    <tr style=\"text-align: right;\">\n",
       "      <th></th>\n",
       "      <th>id</th>\n",
       "      <th>nome</th>\n",
       "      <th>sobrenome</th>\n",
       "      <th>salario</th>\n",
       "      <th>area</th>\n",
       "      <th>nome_completo</th>\n",
       "      <th>area_completa</th>\n",
       "    </tr>\n",
       "  </thead>\n",
       "  <tbody>\n",
       "    <tr>\n",
       "      <th>0</th>\n",
       "      <td>0</td>\n",
       "      <td>Marcelo</td>\n",
       "      <td>Silva</td>\n",
       "      <td>3200.0</td>\n",
       "      <td>SM</td>\n",
       "      <td>Marcelo Silva</td>\n",
       "      <td>Gerenciamento de Software</td>\n",
       "    </tr>\n",
       "    <tr>\n",
       "      <th>1</th>\n",
       "      <td>1</td>\n",
       "      <td>Washington</td>\n",
       "      <td>Ramos</td>\n",
       "      <td>2700.0</td>\n",
       "      <td>UD</td>\n",
       "      <td>Washington Ramos</td>\n",
       "      <td>Designer de UI/UX</td>\n",
       "    </tr>\n",
       "    <tr>\n",
       "      <th>2</th>\n",
       "      <td>2</td>\n",
       "      <td>Sergio</td>\n",
       "      <td>Pinheiro</td>\n",
       "      <td>2450.0</td>\n",
       "      <td>SD</td>\n",
       "      <td>Sergio Pinheiro</td>\n",
       "      <td>Desenvolvimento de Software</td>\n",
       "    </tr>\n",
       "    <tr>\n",
       "      <th>3</th>\n",
       "      <td>3</td>\n",
       "      <td>Bernardo</td>\n",
       "      <td>Costa</td>\n",
       "      <td>3700.0</td>\n",
       "      <td>SM</td>\n",
       "      <td>Bernardo Costa</td>\n",
       "      <td>Gerenciamento de Software</td>\n",
       "    </tr>\n",
       "    <tr>\n",
       "      <th>4</th>\n",
       "      <td>4</td>\n",
       "      <td>Cleverton</td>\n",
       "      <td>Farias</td>\n",
       "      <td>2750.0</td>\n",
       "      <td>SD</td>\n",
       "      <td>Cleverton Farias</td>\n",
       "      <td>Desenvolvimento de Software</td>\n",
       "    </tr>\n",
       "    <tr>\n",
       "      <th>5</th>\n",
       "      <td>5</td>\n",
       "      <td>Abraão</td>\n",
       "      <td>Campos</td>\n",
       "      <td>2550.0</td>\n",
       "      <td>SD</td>\n",
       "      <td>Abraão Campos</td>\n",
       "      <td>Desenvolvimento de Software</td>\n",
       "    </tr>\n",
       "    <tr>\n",
       "      <th>6</th>\n",
       "      <td>6</td>\n",
       "      <td>Letícia</td>\n",
       "      <td>Farias</td>\n",
       "      <td>2450.0</td>\n",
       "      <td>UD</td>\n",
       "      <td>Letícia Farias</td>\n",
       "      <td>Designer de UI/UX</td>\n",
       "    </tr>\n",
       "    <tr>\n",
       "      <th>7</th>\n",
       "      <td>7</td>\n",
       "      <td>Fernando</td>\n",
       "      <td>Ramos</td>\n",
       "      <td>2450.0</td>\n",
       "      <td>SD</td>\n",
       "      <td>Fernando Ramos</td>\n",
       "      <td>Desenvolvimento de Software</td>\n",
       "    </tr>\n",
       "    <tr>\n",
       "      <th>8</th>\n",
       "      <td>8</td>\n",
       "      <td>Marcelo</td>\n",
       "      <td>Farias</td>\n",
       "      <td>2550.0</td>\n",
       "      <td>UD</td>\n",
       "      <td>Marcelo Farias</td>\n",
       "      <td>Designer de UI/UX</td>\n",
       "    </tr>\n",
       "    <tr>\n",
       "      <th>9</th>\n",
       "      <td>9</td>\n",
       "      <td>Fabio</td>\n",
       "      <td>Souza</td>\n",
       "      <td>2750.0</td>\n",
       "      <td>SD</td>\n",
       "      <td>Fabio Souza</td>\n",
       "      <td>Desenvolvimento de Software</td>\n",
       "    </tr>\n",
       "    <tr>\n",
       "      <th>10</th>\n",
       "      <td>10</td>\n",
       "      <td>Clederson</td>\n",
       "      <td>Oliveira</td>\n",
       "      <td>2500.0</td>\n",
       "      <td>SD</td>\n",
       "      <td>Clederson Oliveira</td>\n",
       "      <td>Desenvolvimento de Software</td>\n",
       "    </tr>\n",
       "    <tr>\n",
       "      <th>11</th>\n",
       "      <td>11</td>\n",
       "      <td>Teste</td>\n",
       "      <td>que_eu_criei</td>\n",
       "      <td>3700.0</td>\n",
       "      <td>SD</td>\n",
       "      <td>Teste que_eu_criei</td>\n",
       "      <td>Desenvolvimento de Software</td>\n",
       "    </tr>\n",
       "  </tbody>\n",
       "</table>\n",
       "</div>"
      ],
      "text/plain": [
       "    id        nome     sobrenome  salario area       nome_completo  \\\n",
       "0    0     Marcelo         Silva   3200.0   SM       Marcelo Silva   \n",
       "1    1  Washington         Ramos   2700.0   UD    Washington Ramos   \n",
       "2    2      Sergio      Pinheiro   2450.0   SD     Sergio Pinheiro   \n",
       "3    3    Bernardo         Costa   3700.0   SM      Bernardo Costa   \n",
       "4    4   Cleverton        Farias   2750.0   SD    Cleverton Farias   \n",
       "5    5      Abraão        Campos   2550.0   SD       Abraão Campos   \n",
       "6    6     Letícia        Farias   2450.0   UD      Letícia Farias   \n",
       "7    7    Fernando         Ramos   2450.0   SD      Fernando Ramos   \n",
       "8    8     Marcelo        Farias   2550.0   UD      Marcelo Farias   \n",
       "9    9       Fabio         Souza   2750.0   SD         Fabio Souza   \n",
       "10  10   Clederson      Oliveira   2500.0   SD  Clederson Oliveira   \n",
       "11  11       Teste  que_eu_criei   3700.0   SD  Teste que_eu_criei   \n",
       "\n",
       "                  area_completa  \n",
       "0     Gerenciamento de Software  \n",
       "1             Designer de UI/UX  \n",
       "2   Desenvolvimento de Software  \n",
       "3     Gerenciamento de Software  \n",
       "4   Desenvolvimento de Software  \n",
       "5   Desenvolvimento de Software  \n",
       "6             Designer de UI/UX  \n",
       "7   Desenvolvimento de Software  \n",
       "8             Designer de UI/UX  \n",
       "9   Desenvolvimento de Software  \n",
       "10  Desenvolvimento de Software  \n",
       "11  Desenvolvimento de Software  "
      ]
     },
     "execution_count": 4,
     "metadata": {},
     "output_type": "execute_result"
    }
   ],
   "source": [
    "df_full"
   ]
  },
  {
   "cell_type": "code",
   "execution_count": 5,
   "id": "de9d4b20",
   "metadata": {
    "scrolled": true
   },
   "outputs": [
    {
     "data": {
      "text/html": [
       "<div>\n",
       "<style scoped>\n",
       "    .dataframe tbody tr th:only-of-type {\n",
       "        vertical-align: middle;\n",
       "    }\n",
       "\n",
       "    .dataframe tbody tr th {\n",
       "        vertical-align: top;\n",
       "    }\n",
       "\n",
       "    .dataframe thead th {\n",
       "        text-align: right;\n",
       "    }\n",
       "</style>\n",
       "<table border=\"1\" class=\"dataframe\">\n",
       "  <thead>\n",
       "    <tr style=\"text-align: right;\">\n",
       "      <th></th>\n",
       "      <th>codigo</th>\n",
       "      <th>nome</th>\n",
       "      <th>qtd_funcionario</th>\n",
       "    </tr>\n",
       "  </thead>\n",
       "  <tbody>\n",
       "    <tr>\n",
       "      <th>0</th>\n",
       "      <td>SD</td>\n",
       "      <td>Desenvolvimento de Software</td>\n",
       "      <td>7</td>\n",
       "    </tr>\n",
       "    <tr>\n",
       "      <th>1</th>\n",
       "      <td>SM</td>\n",
       "      <td>Gerenciamento de Software</td>\n",
       "      <td>2</td>\n",
       "    </tr>\n",
       "    <tr>\n",
       "      <th>2</th>\n",
       "      <td>UD</td>\n",
       "      <td>Designer de UI/UX</td>\n",
       "      <td>3</td>\n",
       "    </tr>\n",
       "  </tbody>\n",
       "</table>\n",
       "</div>"
      ],
      "text/plain": [
       "  codigo                         nome qtd_funcionario\n",
       "0     SD  Desenvolvimento de Software               7\n",
       "1     SM    Gerenciamento de Software               2\n",
       "2     UD            Designer de UI/UX               3"
      ]
     },
     "execution_count": 5,
     "metadata": {},
     "output_type": "execute_result"
    }
   ],
   "source": [
    "df_areas"
   ]
  },
  {
   "cell_type": "markdown",
   "id": "a502bc1b",
   "metadata": {},
   "source": [
    "# Atividade 1"
   ]
  },
  {
   "cell_type": "markdown",
   "id": "a2df1dfd",
   "metadata": {},
   "source": [
    "Quem mais recebe e quem menos recebe na empresa e a média salarial da empresa. \n",
    "Calcular e imprimir o nome completo do(s) funcionário(s) com o(s) maior(es) e menor(res) salário(s) na empresa inteira, bem como o salário médio. Em caso de empate (mais de um funcionário nas posições de maior ou menor salário), imprimir todos os funcionários nessas posições que tem o mesmo salário."
   ]
  },
  {
   "cell_type": "code",
   "execution_count": 6,
   "id": "dc4d4080",
   "metadata": {
    "scrolled": true
   },
   "outputs": [
    {
     "name": "stdout",
     "output_type": "stream",
     "text": [
      "global_max | Bernardo Costa | 3700.00\n",
      "global_max | Teste que_eu_criei | 3700.00\n",
      "global_min | Sergio Pinheiro | 2450.00\n",
      "global_min | Letícia Farias | 2450.00\n",
      "global_min | Fernando Ramos | 2450.00\n",
      "global_avg | 2812.50\n"
     ]
    }
   ],
   "source": [
    "# - Criando um filtro para pegar o(s) maior(es) salario(s)\n",
    "filtro = df_full.salario == df_full.salario.max()\n",
    "show_data(df_full.loc[filtro], name=\"global_max\", columns=[\"nome_completo\",\"salario\"])\n",
    "\n",
    "# - Criando um filtro para pegar o(s) menor(es) salario(s)\n",
    "filtro = df_full.salario == df_full.salario.min()\n",
    "show_data(df_full.loc[filtro], name=\"global_min\", columns=[\"nome_completo\",\"salario\"])\n",
    "\n",
    "\n",
    "# - Criando um DataFrame para mostrar a média salarial\n",
    "show_data(pd.DataFrame([{\"salario\":df_full.salario.mean()}]), name=\"global_avg\", columns=[\"salario\"])\n"
   ]
  },
  {
   "cell_type": "markdown",
   "id": "5dfd776a",
   "metadata": {},
   "source": [
    "# Atividade 2"
   ]
  },
  {
   "cell_type": "markdown",
   "id": "088aab8a",
   "metadata": {},
   "source": [
    "Calcular e imprimir o nome completo do(s) funcionário(s) com o(s) maior(es) e menor(res) salário(s) por área da empresa empresa, bem como o salário médio (também por área). Em caso de empate (mais de um funcionário nas posições de maior ou menor salário em uma determinada área), imprimir todos os funcionários nessas posições que tem o mesmo salário, em cada área."
   ]
  },
  {
   "cell_type": "code",
   "execution_count": 7,
   "id": "f1eab032",
   "metadata": {},
   "outputs": [
    {
     "name": "stdout",
     "output_type": "stream",
     "text": [
      "area_max | Desenvolvimento de Software | Teste que_eu_criei | 3700.00\n",
      "area_max | Gerenciamento de Software | Bernardo Costa | 3700.00\n",
      "area_max | Designer de UI/UX | Washington Ramos | 2700.00\n",
      "area_min | Desenvolvimento de Software | Sergio Pinheiro | 2450.00\n",
      "area_min | Desenvolvimento de Software | Fernando Ramos | 2450.00\n",
      "area_min | Gerenciamento de Software | Marcelo Silva | 3200.00\n",
      "area_min | Designer de UI/UX | Letícia Farias | 2450.00\n",
      "area_avg | Desenvolvimento de Software | 2735.71\n",
      "area_avg | Gerenciamento de Software | 3450.00\n",
      "area_avg | Designer de UI/UX | 2566.67\n"
     ]
    }
   ],
   "source": [
    "# - Criando um DataFrame com os grupos para não repetir a mesma operação\n",
    "df_group = df_full.groupby(\"area\")\n",
    "\n",
    "# - Maior Salario por área\n",
    "filtro_1 = df_full.area == \"SD\"\n",
    "filtro_2 = df_full.salario == df_group.get_group(\"SD\").salario.max()\n",
    "show_data(df_full.loc[filtro_1 & filtro_2], name=\"area_max\", columns=[\"area_completa\",\"nome_completo\",\"salario\"])\n",
    "\n",
    "filtro_1 = df_full.area == \"SM\"\n",
    "filtro_2 = df_full.salario == df_group.get_group(\"SM\").salario.max()\n",
    "show_data(df_full.loc[filtro_1 & filtro_2], name=\"area_max\", columns=[\"area_completa\",\"nome_completo\",\"salario\"])\n",
    "\n",
    "filtro_1 = df_full.area == \"UD\"\n",
    "filtro_2 = df_full.salario == df_group.get_group(\"UD\").salario.max()\n",
    "show_data(df_full.loc[filtro_1 & filtro_2], name=\"area_max\", columns=[\"area_completa\",\"nome_completo\",\"salario\"])\n",
    "\n",
    "\n",
    "# - Menor Salario por área\n",
    "filtro_1 = df_full.area == \"SD\"\n",
    "filtro_2 = df_full.salario == df_group.get_group(\"SD\").salario.min()\n",
    "show_data(df_full.loc[filtro_1 & filtro_2], name=\"area_min\", columns=[\"area_completa\",\"nome_completo\",\"salario\"])\n",
    "\n",
    "filtro_1 = df_full.area == \"SM\"\n",
    "filtro_2 = df_full.salario == df_group.get_group(\"SM\").salario.min()\n",
    "show_data(df_full.loc[filtro_1 & filtro_2], name=\"area_min\", columns=[\"area_completa\",\"nome_completo\",\"salario\"])\n",
    "\n",
    "filtro_1 = df_full.area == \"UD\"\n",
    "filtro_2 = df_full.salario == df_group.get_group(\"UD\").salario.min()\n",
    "show_data(df_full.loc[filtro_1 & filtro_2], name=\"area_min\", columns=[\"area_completa\",\"nome_completo\",\"salario\"])\n",
    "\n",
    "\n",
    "# - Média salario por área\n",
    "show_data(pd.DataFrame({\"salario\":[df_group.get_group(\"SD\").salario.mean()],\"area_completa\":list(df_areas.loc[df_areas.codigo == \"SD\",\"nome\"])[0]}), name=\"area_avg\", columns=[\"area_completa\",\"salario\"])\n",
    "\n",
    "show_data(pd.DataFrame({\"salario\":[df_group.get_group(\"SM\").salario.mean()],\"area_completa\":list(df_areas.loc[df_areas.codigo == \"SM\",\"nome\"])[0]}), name=\"area_avg\", columns=[\"area_completa\",\"salario\"])\n",
    "\n",
    "show_data(pd.DataFrame({\"salario\":[df_group.get_group(\"UD\").salario.mean()],\"area_completa\":list(df_areas.loc[df_areas.codigo == \"UD\",\"nome\"])[0]}), name=\"area_avg\", columns=[\"area_completa\",\"salario\"])"
   ]
  },
  {
   "cell_type": "markdown",
   "id": "d0d5a47f",
   "metadata": {},
   "source": [
    "# Atividade 3"
   ]
  },
  {
   "cell_type": "markdown",
   "id": "c5c8e56e",
   "metadata": {},
   "source": [
    "Calcular e imprimir as áreas com o maior e menor número de funcionários. Em caso de empate (mais de uma área com o mesmo número máximo ou mínimo de funcionários), todas as áreas dentro daquele critério devem ser impressas."
   ]
  },
  {
   "cell_type": "code",
   "execution_count": 8,
   "id": "9abf444c",
   "metadata": {},
   "outputs": [
    {
     "name": "stdout",
     "output_type": "stream",
     "text": [
      "most_employees | Desenvolvimento de Software | 7\n",
      "least_employees | Gerenciamento de Software | 2\n"
     ]
    }
   ],
   "source": [
    "# - Maior numero de Funcionario\n",
    "show_data(df_areas.loc[df_areas.qtd_funcionario == df_areas.qtd_funcionario.max()], name=\"most_employees\", columns=[\"nome\",\"qtd_funcionario\"], print_int=True)\n",
    "\n",
    "# - Menor numero de Funcionario\n",
    "show_data(df_areas.loc[df_areas.qtd_funcionario == df_areas.qtd_funcionario.min()], name=\"least_employees\", columns=[\"nome\",\"qtd_funcionario\"], print_int=True)"
   ]
  },
  {
   "cell_type": "markdown",
   "id": "142bc8fc",
   "metadata": {},
   "source": [
    "# Atividade 4"
   ]
  },
  {
   "cell_type": "markdown",
   "id": "eeff240e",
   "metadata": {},
   "source": [
    "Maiores salários para funcionários com o mesmo sobrenome \n",
    "Para cada sobrenome com mais de um funcionário, listar o(s) funcionário(s) que recebem o maior salário. Assim como nos itens anteriores, se mais de um funcionário com o mesmo sobrenome tiver o maior salário, listar todos estes."
   ]
  },
  {
   "cell_type": "code",
   "execution_count": 9,
   "id": "8bbfe2f9",
   "metadata": {},
   "outputs": [
    {
     "name": "stdout",
     "output_type": "stream",
     "text": [
      "last_name_max | Farias | Cleverton Farias | 2750.00\n",
      "last_name_max | Ramos | Washington Ramos | 2700.00\n"
     ]
    }
   ],
   "source": [
    "# - Criando um DataFrame apenas com os sobrenomes duplicados\n",
    "df_duplicate = df_full.loc[df_full.duplicated([\"sobrenome\"], keep=False)].groupby(\"sobrenome\")\n",
    "\n",
    "# - Maior salario com o mesmo sobrenome\n",
    "for last_name in list(df_duplicate.groups):  \n",
    "    df_group = df_duplicate.get_group(last_name)\n",
    "    filtro = df_group.salario == df_group.salario.max()\n",
    "    show_data(df_group.loc[filtro], name=\"last_name_max\", columns=[\"sobrenome\",\"nome_completo\", \"salario\"])\n"
   ]
  }
 ],
 "metadata": {
  "kernelspec": {
   "display_name": "Python 3",
   "language": "python",
   "name": "python3"
  },
  "language_info": {
   "codemirror_mode": {
    "name": "ipython",
    "version": 3
   },
   "file_extension": ".py",
   "mimetype": "text/x-python",
   "name": "python",
   "nbconvert_exporter": "python",
   "pygments_lexer": "ipython3",
   "version": "3.8.10"
  }
 },
 "nbformat": 4,
 "nbformat_minor": 5
}
